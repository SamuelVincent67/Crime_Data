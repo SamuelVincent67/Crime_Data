{
 "cells": [
  {
   "cell_type": "code",
   "execution_count": 1,
   "id": "8651491f",
   "metadata": {},
   "outputs": [],
   "source": [
    "import pandas as pd\n",
    "import numpy as np"
   ]
  },
  {
   "cell_type": "code",
   "execution_count": 2,
   "id": "ccc950b1",
   "metadata": {},
   "outputs": [],
   "source": [
    "import matplotlib.pyplot as plt\n",
    "import seaborn as sns\n",
    "from encodings.aliases import aliases #Python has a file containing a dictionary of encoding names and associates aliases\n",
    "# the matplotlib plots will appear directly below the cell in which the plot function was called.\n",
    "%matplotlib inline"
   ]
  },
  {
   "cell_type": "code",
   "execution_count": 3,
   "id": "68469441",
   "metadata": {},
   "outputs": [
    {
     "name": "stdout",
     "output_type": "stream",
     "text": [
      "successful cp1255\n",
      "successful hp_roman8\n",
      "successful iso8859_16\n",
      "successful cp1250\n",
      "successful iso8859_15\n",
      "successful mac_latin2\n",
      "successful cp437\n",
      "successful kz1048\n",
      "successful cp865\n",
      "successful mac_cyrillic\n",
      "successful gb18030\n",
      "successful cp866\n",
      "successful cp857\n",
      "successful cp1254\n",
      "successful gbk\n",
      "successful cp860\n",
      "successful cp850\n",
      "successful cp775\n",
      "successful mac_roman\n",
      "successful cp1252\n",
      "successful iso8859_7\n",
      "successful cp861\n",
      "successful cp273\n",
      "successful mac_turkish\n",
      "successful cp037\n",
      "successful mac_iceland\n",
      "successful cp1253\n",
      "successful cp1125\n",
      "successful latin_1\n",
      "successful cp1026\n",
      "successful cp932\n",
      "successful utf_16_le\n",
      "successful iso8859_2\n",
      "successful cp864\n",
      "successful big5hkscs\n",
      "successful cp862\n",
      "successful iso8859_10\n",
      "successful cp1256\n",
      "successful cp949\n",
      "successful cp1140\n",
      "successful cp1258\n",
      "successful iso8859_3\n",
      "successful utf_16_be\n",
      "successful iso8859_13\n",
      "successful cp1251\n",
      "successful iso8859_8\n",
      "successful cp852\n",
      "successful cp500\n",
      "successful mac_greek\n",
      "successful iso8859_6\n",
      "successful cp858\n",
      "successful koi8_r\n",
      "successful cp855\n",
      "successful cp1257\n",
      "successful cp869\n",
      "successful iso8859_9\n",
      "successful mbcs\n",
      "successful iso8859_14\n",
      "successful iso8859_4\n",
      "successful iso8859_11\n",
      "successful iso8859_5\n",
      "successful ptcp154\n",
      "successful cp863\n"
     ]
    }
   ],
   "source": [
    "# To find encodings that work\n",
    "\n",
    "# Below line creates a set of all available encodings\n",
    "alias_values = set(aliases.values())\n",
    "\n",
    "for encoding in set(aliases.values()):\n",
    "    try:\n",
    "        df=pd.read_csv(\"crime.csv\", nrows=10, encoding=encoding) # read in only 10 lines for faster read\n",
    "        print('successful', encoding)\n",
    "    except:\n",
    "        pass"
   ]
  },
  {
   "cell_type": "code",
   "execution_count": 4,
   "id": "ce503029",
   "metadata": {},
   "outputs": [],
   "source": [
    "crime=pd.read_csv('crime.csv',encoding='ISO-8859-11')"
   ]
  },
  {
   "cell_type": "code",
   "execution_count": 5,
   "id": "ec9db6ca",
   "metadata": {},
   "outputs": [
    {
     "data": {
      "text/html": [
       "<div>\n",
       "<style scoped>\n",
       "    .dataframe tbody tr th:only-of-type {\n",
       "        vertical-align: middle;\n",
       "    }\n",
       "\n",
       "    .dataframe tbody tr th {\n",
       "        vertical-align: top;\n",
       "    }\n",
       "\n",
       "    .dataframe thead th {\n",
       "        text-align: right;\n",
       "    }\n",
       "</style>\n",
       "<table border=\"1\" class=\"dataframe\">\n",
       "  <thead>\n",
       "    <tr style=\"text-align: right;\">\n",
       "      <th></th>\n",
       "      <th>INCIDENT_NUMBER</th>\n",
       "      <th>OFFENSE_CODE</th>\n",
       "      <th>OFFENSE_CODE_GROUP</th>\n",
       "      <th>OFFENSE_DESCRIPTION</th>\n",
       "      <th>DISTRICT</th>\n",
       "      <th>REPORTING_AREA</th>\n",
       "      <th>SHOOTING</th>\n",
       "      <th>OCCURRED_ON_DATE</th>\n",
       "      <th>YEAR</th>\n",
       "      <th>MONTH</th>\n",
       "      <th>DAY_OF_WEEK</th>\n",
       "      <th>HOUR</th>\n",
       "      <th>UCR_PART</th>\n",
       "      <th>STREET</th>\n",
       "      <th>Lat</th>\n",
       "      <th>Long</th>\n",
       "      <th>Location</th>\n",
       "    </tr>\n",
       "  </thead>\n",
       "  <tbody>\n",
       "    <tr>\n",
       "      <th>0</th>\n",
       "      <td>I182070945</td>\n",
       "      <td>619</td>\n",
       "      <td>Larceny</td>\n",
       "      <td>LARCENY ALL OTHERS</td>\n",
       "      <td>D14</td>\n",
       "      <td>808</td>\n",
       "      <td>NaN</td>\n",
       "      <td>2018-09-02 13:00:00</td>\n",
       "      <td>2018</td>\n",
       "      <td>9</td>\n",
       "      <td>Sunday</td>\n",
       "      <td>13</td>\n",
       "      <td>Part One</td>\n",
       "      <td>LINCOLN ST</td>\n",
       "      <td>42.357791</td>\n",
       "      <td>-71.139371</td>\n",
       "      <td>(42.35779134, -71.13937053)</td>\n",
       "    </tr>\n",
       "    <tr>\n",
       "      <th>1</th>\n",
       "      <td>I182070943</td>\n",
       "      <td>1402</td>\n",
       "      <td>Vandalism</td>\n",
       "      <td>VANDALISM</td>\n",
       "      <td>C11</td>\n",
       "      <td>347</td>\n",
       "      <td>NaN</td>\n",
       "      <td>2018-08-21 00:00:00</td>\n",
       "      <td>2018</td>\n",
       "      <td>8</td>\n",
       "      <td>Tuesday</td>\n",
       "      <td>0</td>\n",
       "      <td>Part Two</td>\n",
       "      <td>HECLA ST</td>\n",
       "      <td>42.306821</td>\n",
       "      <td>-71.060300</td>\n",
       "      <td>(42.30682138, -71.06030035)</td>\n",
       "    </tr>\n",
       "    <tr>\n",
       "      <th>2</th>\n",
       "      <td>I182070941</td>\n",
       "      <td>3410</td>\n",
       "      <td>Towed</td>\n",
       "      <td>TOWED MOTOR VEHICLE</td>\n",
       "      <td>D4</td>\n",
       "      <td>151</td>\n",
       "      <td>NaN</td>\n",
       "      <td>2018-09-03 19:27:00</td>\n",
       "      <td>2018</td>\n",
       "      <td>9</td>\n",
       "      <td>Monday</td>\n",
       "      <td>19</td>\n",
       "      <td>Part Three</td>\n",
       "      <td>CAZENOVE ST</td>\n",
       "      <td>42.346589</td>\n",
       "      <td>-71.072429</td>\n",
       "      <td>(42.34658879, -71.07242943)</td>\n",
       "    </tr>\n",
       "    <tr>\n",
       "      <th>3</th>\n",
       "      <td>I182070940</td>\n",
       "      <td>3114</td>\n",
       "      <td>Investigate Property</td>\n",
       "      <td>INVESTIGATE PROPERTY</td>\n",
       "      <td>D4</td>\n",
       "      <td>272</td>\n",
       "      <td>NaN</td>\n",
       "      <td>2018-09-03 21:16:00</td>\n",
       "      <td>2018</td>\n",
       "      <td>9</td>\n",
       "      <td>Monday</td>\n",
       "      <td>21</td>\n",
       "      <td>Part Three</td>\n",
       "      <td>NEWCOMB ST</td>\n",
       "      <td>42.334182</td>\n",
       "      <td>-71.078664</td>\n",
       "      <td>(42.33418175, -71.07866441)</td>\n",
       "    </tr>\n",
       "    <tr>\n",
       "      <th>4</th>\n",
       "      <td>I182070938</td>\n",
       "      <td>3114</td>\n",
       "      <td>Investigate Property</td>\n",
       "      <td>INVESTIGATE PROPERTY</td>\n",
       "      <td>B3</td>\n",
       "      <td>421</td>\n",
       "      <td>NaN</td>\n",
       "      <td>2018-09-03 21:05:00</td>\n",
       "      <td>2018</td>\n",
       "      <td>9</td>\n",
       "      <td>Monday</td>\n",
       "      <td>21</td>\n",
       "      <td>Part Three</td>\n",
       "      <td>DELHI ST</td>\n",
       "      <td>42.275365</td>\n",
       "      <td>-71.090361</td>\n",
       "      <td>(42.27536542, -71.09036101)</td>\n",
       "    </tr>\n",
       "  </tbody>\n",
       "</table>\n",
       "</div>"
      ],
      "text/plain": [
       "  INCIDENT_NUMBER  OFFENSE_CODE    OFFENSE_CODE_GROUP   OFFENSE_DESCRIPTION  \\\n",
       "0      I182070945           619               Larceny    LARCENY ALL OTHERS   \n",
       "1      I182070943          1402             Vandalism             VANDALISM   \n",
       "2      I182070941          3410                 Towed   TOWED MOTOR VEHICLE   \n",
       "3      I182070940          3114  Investigate Property  INVESTIGATE PROPERTY   \n",
       "4      I182070938          3114  Investigate Property  INVESTIGATE PROPERTY   \n",
       "\n",
       "  DISTRICT REPORTING_AREA SHOOTING     OCCURRED_ON_DATE  YEAR  MONTH  \\\n",
       "0      D14            808      NaN  2018-09-02 13:00:00  2018      9   \n",
       "1      C11            347      NaN  2018-08-21 00:00:00  2018      8   \n",
       "2       D4            151      NaN  2018-09-03 19:27:00  2018      9   \n",
       "3       D4            272      NaN  2018-09-03 21:16:00  2018      9   \n",
       "4       B3            421      NaN  2018-09-03 21:05:00  2018      9   \n",
       "\n",
       "  DAY_OF_WEEK  HOUR    UCR_PART       STREET        Lat       Long  \\\n",
       "0      Sunday    13    Part One   LINCOLN ST  42.357791 -71.139371   \n",
       "1     Tuesday     0    Part Two     HECLA ST  42.306821 -71.060300   \n",
       "2      Monday    19  Part Three  CAZENOVE ST  42.346589 -71.072429   \n",
       "3      Monday    21  Part Three   NEWCOMB ST  42.334182 -71.078664   \n",
       "4      Monday    21  Part Three     DELHI ST  42.275365 -71.090361   \n",
       "\n",
       "                      Location  \n",
       "0  (42.35779134, -71.13937053)  \n",
       "1  (42.30682138, -71.06030035)  \n",
       "2  (42.34658879, -71.07242943)  \n",
       "3  (42.33418175, -71.07866441)  \n",
       "4  (42.27536542, -71.09036101)  "
      ]
     },
     "execution_count": 5,
     "metadata": {},
     "output_type": "execute_result"
    }
   ],
   "source": [
    "crime.head()"
   ]
  },
  {
   "cell_type": "code",
   "execution_count": 6,
   "id": "f0a4922d",
   "metadata": {},
   "outputs": [
    {
     "data": {
      "text/plain": [
       "(319073, 17)"
      ]
     },
     "execution_count": 6,
     "metadata": {},
     "output_type": "execute_result"
    }
   ],
   "source": [
    "crime.shape"
   ]
  },
  {
   "cell_type": "code",
   "execution_count": 7,
   "id": "37ed1963",
   "metadata": {
    "scrolled": true
   },
   "outputs": [
    {
     "data": {
      "text/plain": [
       "23"
      ]
     },
     "execution_count": 7,
     "metadata": {},
     "output_type": "execute_result"
    }
   ],
   "source": [
    "crime.duplicated().sum()"
   ]
  },
  {
   "cell_type": "markdown",
   "id": "38b68c16",
   "metadata": {},
   "source": [
    " 23 Duplicates value in the Dataset"
   ]
  },
  {
   "cell_type": "code",
   "execution_count": 8,
   "id": "7132e240",
   "metadata": {},
   "outputs": [],
   "source": [
    "crime.drop_duplicates(inplace=True)"
   ]
  },
  {
   "cell_type": "markdown",
   "id": "5e917827",
   "metadata": {},
   "source": [
    "Dropping Duplicate values permanently"
   ]
  },
  {
   "cell_type": "code",
   "execution_count": 9,
   "id": "b3029052",
   "metadata": {},
   "outputs": [
    {
     "data": {
      "text/plain": [
       "(319050, 17)"
      ]
     },
     "execution_count": 9,
     "metadata": {},
     "output_type": "execute_result"
    }
   ],
   "source": [
    "crime.shape"
   ]
  },
  {
   "cell_type": "markdown",
   "id": "1562d932",
   "metadata": {},
   "source": [
    " ## Exploring Data "
   ]
  },
  {
   "cell_type": "code",
   "execution_count": 10,
   "id": "4b9e0158",
   "metadata": {},
   "outputs": [
    {
     "data": {
      "text/html": [
       "<div>\n",
       "<style scoped>\n",
       "    .dataframe tbody tr th:only-of-type {\n",
       "        vertical-align: middle;\n",
       "    }\n",
       "\n",
       "    .dataframe tbody tr th {\n",
       "        vertical-align: top;\n",
       "    }\n",
       "\n",
       "    .dataframe thead th {\n",
       "        text-align: right;\n",
       "    }\n",
       "</style>\n",
       "<table border=\"1\" class=\"dataframe\">\n",
       "  <thead>\n",
       "    <tr style=\"text-align: right;\">\n",
       "      <th></th>\n",
       "      <th>INCIDENT_NUMBER</th>\n",
       "      <th>OFFENSE_CODE</th>\n",
       "      <th>OFFENSE_CODE_GROUP</th>\n",
       "      <th>OFFENSE_DESCRIPTION</th>\n",
       "      <th>DISTRICT</th>\n",
       "      <th>REPORTING_AREA</th>\n",
       "      <th>SHOOTING</th>\n",
       "      <th>OCCURRED_ON_DATE</th>\n",
       "      <th>YEAR</th>\n",
       "      <th>MONTH</th>\n",
       "      <th>DAY_OF_WEEK</th>\n",
       "      <th>HOUR</th>\n",
       "      <th>UCR_PART</th>\n",
       "      <th>STREET</th>\n",
       "      <th>Lat</th>\n",
       "      <th>Long</th>\n",
       "      <th>Location</th>\n",
       "    </tr>\n",
       "  </thead>\n",
       "  <tbody>\n",
       "    <tr>\n",
       "      <th>0</th>\n",
       "      <td>I182070945</td>\n",
       "      <td>619</td>\n",
       "      <td>Larceny</td>\n",
       "      <td>LARCENY ALL OTHERS</td>\n",
       "      <td>D14</td>\n",
       "      <td>808</td>\n",
       "      <td>NaN</td>\n",
       "      <td>2018-09-02 13:00:00</td>\n",
       "      <td>2018</td>\n",
       "      <td>9</td>\n",
       "      <td>Sunday</td>\n",
       "      <td>13</td>\n",
       "      <td>Part One</td>\n",
       "      <td>LINCOLN ST</td>\n",
       "      <td>42.357791</td>\n",
       "      <td>-71.139371</td>\n",
       "      <td>(42.35779134, -71.13937053)</td>\n",
       "    </tr>\n",
       "    <tr>\n",
       "      <th>1</th>\n",
       "      <td>I182070943</td>\n",
       "      <td>1402</td>\n",
       "      <td>Vandalism</td>\n",
       "      <td>VANDALISM</td>\n",
       "      <td>C11</td>\n",
       "      <td>347</td>\n",
       "      <td>NaN</td>\n",
       "      <td>2018-08-21 00:00:00</td>\n",
       "      <td>2018</td>\n",
       "      <td>8</td>\n",
       "      <td>Tuesday</td>\n",
       "      <td>0</td>\n",
       "      <td>Part Two</td>\n",
       "      <td>HECLA ST</td>\n",
       "      <td>42.306821</td>\n",
       "      <td>-71.060300</td>\n",
       "      <td>(42.30682138, -71.06030035)</td>\n",
       "    </tr>\n",
       "    <tr>\n",
       "      <th>2</th>\n",
       "      <td>I182070941</td>\n",
       "      <td>3410</td>\n",
       "      <td>Towed</td>\n",
       "      <td>TOWED MOTOR VEHICLE</td>\n",
       "      <td>D4</td>\n",
       "      <td>151</td>\n",
       "      <td>NaN</td>\n",
       "      <td>2018-09-03 19:27:00</td>\n",
       "      <td>2018</td>\n",
       "      <td>9</td>\n",
       "      <td>Monday</td>\n",
       "      <td>19</td>\n",
       "      <td>Part Three</td>\n",
       "      <td>CAZENOVE ST</td>\n",
       "      <td>42.346589</td>\n",
       "      <td>-71.072429</td>\n",
       "      <td>(42.34658879, -71.07242943)</td>\n",
       "    </tr>\n",
       "    <tr>\n",
       "      <th>3</th>\n",
       "      <td>I182070940</td>\n",
       "      <td>3114</td>\n",
       "      <td>Investigate Property</td>\n",
       "      <td>INVESTIGATE PROPERTY</td>\n",
       "      <td>D4</td>\n",
       "      <td>272</td>\n",
       "      <td>NaN</td>\n",
       "      <td>2018-09-03 21:16:00</td>\n",
       "      <td>2018</td>\n",
       "      <td>9</td>\n",
       "      <td>Monday</td>\n",
       "      <td>21</td>\n",
       "      <td>Part Three</td>\n",
       "      <td>NEWCOMB ST</td>\n",
       "      <td>42.334182</td>\n",
       "      <td>-71.078664</td>\n",
       "      <td>(42.33418175, -71.07866441)</td>\n",
       "    </tr>\n",
       "    <tr>\n",
       "      <th>4</th>\n",
       "      <td>I182070938</td>\n",
       "      <td>3114</td>\n",
       "      <td>Investigate Property</td>\n",
       "      <td>INVESTIGATE PROPERTY</td>\n",
       "      <td>B3</td>\n",
       "      <td>421</td>\n",
       "      <td>NaN</td>\n",
       "      <td>2018-09-03 21:05:00</td>\n",
       "      <td>2018</td>\n",
       "      <td>9</td>\n",
       "      <td>Monday</td>\n",
       "      <td>21</td>\n",
       "      <td>Part Three</td>\n",
       "      <td>DELHI ST</td>\n",
       "      <td>42.275365</td>\n",
       "      <td>-71.090361</td>\n",
       "      <td>(42.27536542, -71.09036101)</td>\n",
       "    </tr>\n",
       "  </tbody>\n",
       "</table>\n",
       "</div>"
      ],
      "text/plain": [
       "  INCIDENT_NUMBER  OFFENSE_CODE    OFFENSE_CODE_GROUP   OFFENSE_DESCRIPTION  \\\n",
       "0      I182070945           619               Larceny    LARCENY ALL OTHERS   \n",
       "1      I182070943          1402             Vandalism             VANDALISM   \n",
       "2      I182070941          3410                 Towed   TOWED MOTOR VEHICLE   \n",
       "3      I182070940          3114  Investigate Property  INVESTIGATE PROPERTY   \n",
       "4      I182070938          3114  Investigate Property  INVESTIGATE PROPERTY   \n",
       "\n",
       "  DISTRICT REPORTING_AREA SHOOTING     OCCURRED_ON_DATE  YEAR  MONTH  \\\n",
       "0      D14            808      NaN  2018-09-02 13:00:00  2018      9   \n",
       "1      C11            347      NaN  2018-08-21 00:00:00  2018      8   \n",
       "2       D4            151      NaN  2018-09-03 19:27:00  2018      9   \n",
       "3       D4            272      NaN  2018-09-03 21:16:00  2018      9   \n",
       "4       B3            421      NaN  2018-09-03 21:05:00  2018      9   \n",
       "\n",
       "  DAY_OF_WEEK  HOUR    UCR_PART       STREET        Lat       Long  \\\n",
       "0      Sunday    13    Part One   LINCOLN ST  42.357791 -71.139371   \n",
       "1     Tuesday     0    Part Two     HECLA ST  42.306821 -71.060300   \n",
       "2      Monday    19  Part Three  CAZENOVE ST  42.346589 -71.072429   \n",
       "3      Monday    21  Part Three   NEWCOMB ST  42.334182 -71.078664   \n",
       "4      Monday    21  Part Three     DELHI ST  42.275365 -71.090361   \n",
       "\n",
       "                      Location  \n",
       "0  (42.35779134, -71.13937053)  \n",
       "1  (42.30682138, -71.06030035)  \n",
       "2  (42.34658879, -71.07242943)  \n",
       "3  (42.33418175, -71.07866441)  \n",
       "4  (42.27536542, -71.09036101)  "
      ]
     },
     "execution_count": 10,
     "metadata": {},
     "output_type": "execute_result"
    }
   ],
   "source": [
    "crime.head()"
   ]
  },
  {
   "cell_type": "code",
   "execution_count": 11,
   "id": "33701966",
   "metadata": {},
   "outputs": [
    {
     "data": {
      "text/html": [
       "<div>\n",
       "<style scoped>\n",
       "    .dataframe tbody tr th:only-of-type {\n",
       "        vertical-align: middle;\n",
       "    }\n",
       "\n",
       "    .dataframe tbody tr th {\n",
       "        vertical-align: top;\n",
       "    }\n",
       "\n",
       "    .dataframe thead th {\n",
       "        text-align: right;\n",
       "    }\n",
       "</style>\n",
       "<table border=\"1\" class=\"dataframe\">\n",
       "  <thead>\n",
       "    <tr style=\"text-align: right;\">\n",
       "      <th></th>\n",
       "      <th>INCIDENT_NUMBER</th>\n",
       "      <th>OFFENSE_CODE</th>\n",
       "      <th>OFFENSE_CODE_GROUP</th>\n",
       "      <th>OFFENSE_DESCRIPTION</th>\n",
       "      <th>DISTRICT</th>\n",
       "      <th>REPORTING_AREA</th>\n",
       "      <th>SHOOTING</th>\n",
       "      <th>OCCURRED_ON_DATE</th>\n",
       "      <th>YEAR</th>\n",
       "      <th>MONTH</th>\n",
       "      <th>DAY_OF_WEEK</th>\n",
       "      <th>HOUR</th>\n",
       "      <th>UCR_PART</th>\n",
       "      <th>STREET</th>\n",
       "      <th>Lat</th>\n",
       "      <th>Long</th>\n",
       "      <th>Location</th>\n",
       "    </tr>\n",
       "  </thead>\n",
       "  <tbody>\n",
       "    <tr>\n",
       "      <th>319068</th>\n",
       "      <td>I050310906-00</td>\n",
       "      <td>3125</td>\n",
       "      <td>Warrant Arrests</td>\n",
       "      <td>WARRANT ARREST</td>\n",
       "      <td>D4</td>\n",
       "      <td>285</td>\n",
       "      <td>NaN</td>\n",
       "      <td>2016-06-05 17:25:00</td>\n",
       "      <td>2016</td>\n",
       "      <td>6</td>\n",
       "      <td>Sunday</td>\n",
       "      <td>17</td>\n",
       "      <td>Part Three</td>\n",
       "      <td>COVENTRY ST</td>\n",
       "      <td>42.336951</td>\n",
       "      <td>-71.085748</td>\n",
       "      <td>(42.33695098, -71.08574813)</td>\n",
       "    </tr>\n",
       "    <tr>\n",
       "      <th>319069</th>\n",
       "      <td>I030217815-08</td>\n",
       "      <td>111</td>\n",
       "      <td>Homicide</td>\n",
       "      <td>MURDER, NON-NEGLIGIENT MANSLAUGHTER</td>\n",
       "      <td>E18</td>\n",
       "      <td>520</td>\n",
       "      <td>NaN</td>\n",
       "      <td>2015-07-09 13:38:00</td>\n",
       "      <td>2015</td>\n",
       "      <td>7</td>\n",
       "      <td>Thursday</td>\n",
       "      <td>13</td>\n",
       "      <td>Part One</td>\n",
       "      <td>RIVER ST</td>\n",
       "      <td>42.255926</td>\n",
       "      <td>-71.123172</td>\n",
       "      <td>(42.25592648, -71.12317207)</td>\n",
       "    </tr>\n",
       "    <tr>\n",
       "      <th>319070</th>\n",
       "      <td>I030217815-08</td>\n",
       "      <td>3125</td>\n",
       "      <td>Warrant Arrests</td>\n",
       "      <td>WARRANT ARREST</td>\n",
       "      <td>E18</td>\n",
       "      <td>520</td>\n",
       "      <td>NaN</td>\n",
       "      <td>2015-07-09 13:38:00</td>\n",
       "      <td>2015</td>\n",
       "      <td>7</td>\n",
       "      <td>Thursday</td>\n",
       "      <td>13</td>\n",
       "      <td>Part Three</td>\n",
       "      <td>RIVER ST</td>\n",
       "      <td>42.255926</td>\n",
       "      <td>-71.123172</td>\n",
       "      <td>(42.25592648, -71.12317207)</td>\n",
       "    </tr>\n",
       "    <tr>\n",
       "      <th>319071</th>\n",
       "      <td>I010370257-00</td>\n",
       "      <td>3125</td>\n",
       "      <td>Warrant Arrests</td>\n",
       "      <td>WARRANT ARREST</td>\n",
       "      <td>E13</td>\n",
       "      <td>569</td>\n",
       "      <td>NaN</td>\n",
       "      <td>2016-05-31 19:35:00</td>\n",
       "      <td>2016</td>\n",
       "      <td>5</td>\n",
       "      <td>Tuesday</td>\n",
       "      <td>19</td>\n",
       "      <td>Part Three</td>\n",
       "      <td>NEW WASHINGTON ST</td>\n",
       "      <td>42.302333</td>\n",
       "      <td>-71.111565</td>\n",
       "      <td>(42.30233307, -71.11156487)</td>\n",
       "    </tr>\n",
       "    <tr>\n",
       "      <th>319072</th>\n",
       "      <td>142052550</td>\n",
       "      <td>3125</td>\n",
       "      <td>Warrant Arrests</td>\n",
       "      <td>WARRANT ARREST</td>\n",
       "      <td>D4</td>\n",
       "      <td>903</td>\n",
       "      <td>NaN</td>\n",
       "      <td>2015-06-22 00:12:00</td>\n",
       "      <td>2015</td>\n",
       "      <td>6</td>\n",
       "      <td>Monday</td>\n",
       "      <td>0</td>\n",
       "      <td>Part Three</td>\n",
       "      <td>WASHINGTON ST</td>\n",
       "      <td>42.333839</td>\n",
       "      <td>-71.080290</td>\n",
       "      <td>(42.33383935, -71.08029038)</td>\n",
       "    </tr>\n",
       "  </tbody>\n",
       "</table>\n",
       "</div>"
      ],
      "text/plain": [
       "       INCIDENT_NUMBER  OFFENSE_CODE OFFENSE_CODE_GROUP  \\\n",
       "319068   I050310906-00          3125    Warrant Arrests   \n",
       "319069   I030217815-08           111           Homicide   \n",
       "319070   I030217815-08          3125    Warrant Arrests   \n",
       "319071   I010370257-00          3125    Warrant Arrests   \n",
       "319072       142052550          3125    Warrant Arrests   \n",
       "\n",
       "                        OFFENSE_DESCRIPTION DISTRICT REPORTING_AREA SHOOTING  \\\n",
       "319068                       WARRANT ARREST       D4            285      NaN   \n",
       "319069  MURDER, NON-NEGLIGIENT MANSLAUGHTER      E18            520      NaN   \n",
       "319070                       WARRANT ARREST      E18            520      NaN   \n",
       "319071                       WARRANT ARREST      E13            569      NaN   \n",
       "319072                       WARRANT ARREST       D4            903      NaN   \n",
       "\n",
       "           OCCURRED_ON_DATE  YEAR  MONTH DAY_OF_WEEK  HOUR    UCR_PART  \\\n",
       "319068  2016-06-05 17:25:00  2016      6      Sunday    17  Part Three   \n",
       "319069  2015-07-09 13:38:00  2015      7    Thursday    13    Part One   \n",
       "319070  2015-07-09 13:38:00  2015      7    Thursday    13  Part Three   \n",
       "319071  2016-05-31 19:35:00  2016      5     Tuesday    19  Part Three   \n",
       "319072  2015-06-22 00:12:00  2015      6      Monday     0  Part Three   \n",
       "\n",
       "                   STREET        Lat       Long                     Location  \n",
       "319068        COVENTRY ST  42.336951 -71.085748  (42.33695098, -71.08574813)  \n",
       "319069           RIVER ST  42.255926 -71.123172  (42.25592648, -71.12317207)  \n",
       "319070           RIVER ST  42.255926 -71.123172  (42.25592648, -71.12317207)  \n",
       "319071  NEW WASHINGTON ST  42.302333 -71.111565  (42.30233307, -71.11156487)  \n",
       "319072      WASHINGTON ST  42.333839 -71.080290  (42.33383935, -71.08029038)  "
      ]
     },
     "execution_count": 11,
     "metadata": {},
     "output_type": "execute_result"
    }
   ],
   "source": [
    "crime.tail()"
   ]
  },
  {
   "cell_type": "code",
   "execution_count": 12,
   "id": "4db1e9ee",
   "metadata": {},
   "outputs": [
    {
     "name": "stdout",
     "output_type": "stream",
     "text": [
      "<class 'pandas.core.frame.DataFrame'>\n",
      "Int64Index: 319050 entries, 0 to 319072\n",
      "Data columns (total 17 columns):\n",
      " #   Column               Non-Null Count   Dtype  \n",
      "---  ------               --------------   -----  \n",
      " 0   INCIDENT_NUMBER      319050 non-null  object \n",
      " 1   OFFENSE_CODE         319050 non-null  int64  \n",
      " 2   OFFENSE_CODE_GROUP   319050 non-null  object \n",
      " 3   OFFENSE_DESCRIPTION  319050 non-null  object \n",
      " 4   DISTRICT             317285 non-null  object \n",
      " 5   REPORTING_AREA       319050 non-null  object \n",
      " 6   SHOOTING             1019 non-null    object \n",
      " 7   OCCURRED_ON_DATE     319050 non-null  object \n",
      " 8   YEAR                 319050 non-null  int64  \n",
      " 9   MONTH                319050 non-null  int64  \n",
      " 10  DAY_OF_WEEK          319050 non-null  object \n",
      " 11  HOUR                 319050 non-null  int64  \n",
      " 12  UCR_PART             318960 non-null  object \n",
      " 13  STREET               308179 non-null  object \n",
      " 14  Lat                  299052 non-null  float64\n",
      " 15  Long                 299052 non-null  float64\n",
      " 16  Location             319050 non-null  object \n",
      "dtypes: float64(2), int64(4), object(11)\n",
      "memory usage: 43.8+ MB\n"
     ]
    }
   ],
   "source": [
    "crime.info()"
   ]
  },
  {
   "cell_type": "code",
   "execution_count": 13,
   "id": "06172697",
   "metadata": {},
   "outputs": [],
   "source": [
    "crime.OCCURRED_ON_DATE = pd.to_datetime(crime.OCCURRED_ON_DATE)\n",
    "# OCCURRED_ON_DATE column datatype changed from object to datetime."
   ]
  },
  {
   "cell_type": "code",
   "execution_count": 14,
   "id": "706b2305",
   "metadata": {},
   "outputs": [
    {
     "name": "stdout",
     "output_type": "stream",
     "text": [
      "<class 'pandas.core.frame.DataFrame'>\n",
      "Int64Index: 319050 entries, 0 to 319072\n",
      "Data columns (total 17 columns):\n",
      " #   Column               Non-Null Count   Dtype         \n",
      "---  ------               --------------   -----         \n",
      " 0   INCIDENT_NUMBER      319050 non-null  object        \n",
      " 1   OFFENSE_CODE         319050 non-null  int64         \n",
      " 2   OFFENSE_CODE_GROUP   319050 non-null  object        \n",
      " 3   OFFENSE_DESCRIPTION  319050 non-null  object        \n",
      " 4   DISTRICT             317285 non-null  object        \n",
      " 5   REPORTING_AREA       319050 non-null  object        \n",
      " 6   SHOOTING             1019 non-null    object        \n",
      " 7   OCCURRED_ON_DATE     319050 non-null  datetime64[ns]\n",
      " 8   YEAR                 319050 non-null  int64         \n",
      " 9   MONTH                319050 non-null  int64         \n",
      " 10  DAY_OF_WEEK          319050 non-null  object        \n",
      " 11  HOUR                 319050 non-null  int64         \n",
      " 12  UCR_PART             318960 non-null  object        \n",
      " 13  STREET               308179 non-null  object        \n",
      " 14  Lat                  299052 non-null  float64       \n",
      " 15  Long                 299052 non-null  float64       \n",
      " 16  Location             319050 non-null  object        \n",
      "dtypes: datetime64[ns](1), float64(2), int64(4), object(10)\n",
      "memory usage: 43.8+ MB\n"
     ]
    }
   ],
   "source": [
    "crime.info()"
   ]
  },
  {
   "cell_type": "code",
   "execution_count": 15,
   "id": "e1d6ec0a",
   "metadata": {},
   "outputs": [
    {
     "data": {
      "text/plain": [
       "0         2018\n",
       "1         2018\n",
       "2         2018\n",
       "3         2018\n",
       "4         2018\n",
       "          ... \n",
       "319068    2016\n",
       "319069    2015\n",
       "319070    2015\n",
       "319071    2016\n",
       "319072    2015\n",
       "Name: OCCURRED_ON_DATE, Length: 319050, dtype: int64"
      ]
     },
     "execution_count": 15,
     "metadata": {},
     "output_type": "execute_result"
    }
   ],
   "source": [
    "crime.OCCURRED_ON_DATE.dt.year"
   ]
  },
  {
   "cell_type": "code",
   "execution_count": 16,
   "id": "c2c826c1",
   "metadata": {},
   "outputs": [
    {
     "data": {
      "text/plain": [
       "0         9\n",
       "1         8\n",
       "2         9\n",
       "3         9\n",
       "4         9\n",
       "         ..\n",
       "319068    6\n",
       "319069    7\n",
       "319070    7\n",
       "319071    5\n",
       "319072    6\n",
       "Name: OCCURRED_ON_DATE, Length: 319050, dtype: int64"
      ]
     },
     "execution_count": 16,
     "metadata": {},
     "output_type": "execute_result"
    }
   ],
   "source": [
    "crime.OCCURRED_ON_DATE.dt.month"
   ]
  },
  {
   "cell_type": "code",
   "execution_count": 17,
   "id": "17c3bccb",
   "metadata": {},
   "outputs": [
    {
     "name": "stderr",
     "output_type": "stream",
     "text": [
      "C:\\Users\\samue\\AppData\\Local\\Temp\\ipykernel_4132\\2588699237.py:1: FutureWarning: Series.dt.weekofyear and Series.dt.week have been deprecated. Please use Series.dt.isocalendar().week instead.\n",
      "  crime.OCCURRED_ON_DATE.dt.week\n"
     ]
    },
    {
     "data": {
      "text/plain": [
       "0         35\n",
       "1         34\n",
       "2         36\n",
       "3         36\n",
       "4         36\n",
       "          ..\n",
       "319068    22\n",
       "319069    28\n",
       "319070    28\n",
       "319071    22\n",
       "319072    26\n",
       "Name: OCCURRED_ON_DATE, Length: 319050, dtype: int64"
      ]
     },
     "execution_count": 17,
     "metadata": {},
     "output_type": "execute_result"
    }
   ],
   "source": [
    "crime.OCCURRED_ON_DATE.dt.week"
   ]
  },
  {
   "cell_type": "code",
   "execution_count": 18,
   "id": "fcdcbd18",
   "metadata": {},
   "outputs": [
    {
     "data": {
      "text/plain": [
       "0         13\n",
       "1          0\n",
       "2         19\n",
       "3         21\n",
       "4         21\n",
       "          ..\n",
       "319068    17\n",
       "319069    13\n",
       "319070    13\n",
       "319071    19\n",
       "319072     0\n",
       "Name: OCCURRED_ON_DATE, Length: 319050, dtype: int64"
      ]
     },
     "execution_count": 18,
     "metadata": {},
     "output_type": "execute_result"
    }
   ],
   "source": [
    "crime.OCCURRED_ON_DATE.dt.hour"
   ]
  },
  {
   "cell_type": "code",
   "execution_count": 19,
   "id": "5cd329b0",
   "metadata": {},
   "outputs": [
    {
     "data": {
      "text/plain": [
       "0          0\n",
       "1          0\n",
       "2         27\n",
       "3         16\n",
       "4          5\n",
       "          ..\n",
       "319068    25\n",
       "319069    38\n",
       "319070    38\n",
       "319071    35\n",
       "319072    12\n",
       "Name: OCCURRED_ON_DATE, Length: 319050, dtype: int64"
      ]
     },
     "execution_count": 19,
     "metadata": {},
     "output_type": "execute_result"
    }
   ],
   "source": [
    "crime.OCCURRED_ON_DATE.dt.minute"
   ]
  },
  {
   "cell_type": "code",
   "execution_count": 20,
   "id": "43cc08f9",
   "metadata": {},
   "outputs": [
    {
     "data": {
      "text/html": [
       "<div>\n",
       "<style scoped>\n",
       "    .dataframe tbody tr th:only-of-type {\n",
       "        vertical-align: middle;\n",
       "    }\n",
       "\n",
       "    .dataframe tbody tr th {\n",
       "        vertical-align: top;\n",
       "    }\n",
       "\n",
       "    .dataframe thead th {\n",
       "        text-align: right;\n",
       "    }\n",
       "</style>\n",
       "<table border=\"1\" class=\"dataframe\">\n",
       "  <thead>\n",
       "    <tr style=\"text-align: right;\">\n",
       "      <th></th>\n",
       "      <th>OFFENSE_CODE</th>\n",
       "      <th>YEAR</th>\n",
       "      <th>MONTH</th>\n",
       "      <th>HOUR</th>\n",
       "      <th>Lat</th>\n",
       "      <th>Long</th>\n",
       "    </tr>\n",
       "  </thead>\n",
       "  <tbody>\n",
       "    <tr>\n",
       "      <th>count</th>\n",
       "      <td>319050.000000</td>\n",
       "      <td>319050.000000</td>\n",
       "      <td>319050.000000</td>\n",
       "      <td>319050.000000</td>\n",
       "      <td>299052.000000</td>\n",
       "      <td>299052.000000</td>\n",
       "    </tr>\n",
       "    <tr>\n",
       "      <th>mean</th>\n",
       "      <td>2317.516957</td>\n",
       "      <td>2016.560674</td>\n",
       "      <td>6.609622</td>\n",
       "      <td>13.118176</td>\n",
       "      <td>42.214373</td>\n",
       "      <td>-70.908260</td>\n",
       "    </tr>\n",
       "    <tr>\n",
       "      <th>std</th>\n",
       "      <td>1185.308921</td>\n",
       "      <td>0.996312</td>\n",
       "      <td>3.273677</td>\n",
       "      <td>6.294258</td>\n",
       "      <td>2.159845</td>\n",
       "      <td>3.493746</td>\n",
       "    </tr>\n",
       "    <tr>\n",
       "      <th>min</th>\n",
       "      <td>111.000000</td>\n",
       "      <td>2015.000000</td>\n",
       "      <td>1.000000</td>\n",
       "      <td>0.000000</td>\n",
       "      <td>-1.000000</td>\n",
       "      <td>-71.178674</td>\n",
       "    </tr>\n",
       "    <tr>\n",
       "      <th>25%</th>\n",
       "      <td>1001.000000</td>\n",
       "      <td>2016.000000</td>\n",
       "      <td>4.000000</td>\n",
       "      <td>9.000000</td>\n",
       "      <td>42.297438</td>\n",
       "      <td>-71.097135</td>\n",
       "    </tr>\n",
       "    <tr>\n",
       "      <th>50%</th>\n",
       "      <td>2907.000000</td>\n",
       "      <td>2017.000000</td>\n",
       "      <td>7.000000</td>\n",
       "      <td>14.000000</td>\n",
       "      <td>42.325538</td>\n",
       "      <td>-71.077524</td>\n",
       "    </tr>\n",
       "    <tr>\n",
       "      <th>75%</th>\n",
       "      <td>3201.000000</td>\n",
       "      <td>2017.000000</td>\n",
       "      <td>9.000000</td>\n",
       "      <td>18.000000</td>\n",
       "      <td>42.348624</td>\n",
       "      <td>-71.062467</td>\n",
       "    </tr>\n",
       "    <tr>\n",
       "      <th>max</th>\n",
       "      <td>3831.000000</td>\n",
       "      <td>2018.000000</td>\n",
       "      <td>12.000000</td>\n",
       "      <td>23.000000</td>\n",
       "      <td>42.395042</td>\n",
       "      <td>-1.000000</td>\n",
       "    </tr>\n",
       "  </tbody>\n",
       "</table>\n",
       "</div>"
      ],
      "text/plain": [
       "        OFFENSE_CODE           YEAR          MONTH           HOUR  \\\n",
       "count  319050.000000  319050.000000  319050.000000  319050.000000   \n",
       "mean     2317.516957    2016.560674       6.609622      13.118176   \n",
       "std      1185.308921       0.996312       3.273677       6.294258   \n",
       "min       111.000000    2015.000000       1.000000       0.000000   \n",
       "25%      1001.000000    2016.000000       4.000000       9.000000   \n",
       "50%      2907.000000    2017.000000       7.000000      14.000000   \n",
       "75%      3201.000000    2017.000000       9.000000      18.000000   \n",
       "max      3831.000000    2018.000000      12.000000      23.000000   \n",
       "\n",
       "                 Lat           Long  \n",
       "count  299052.000000  299052.000000  \n",
       "mean       42.214373     -70.908260  \n",
       "std         2.159845       3.493746  \n",
       "min        -1.000000     -71.178674  \n",
       "25%        42.297438     -71.097135  \n",
       "50%        42.325538     -71.077524  \n",
       "75%        42.348624     -71.062467  \n",
       "max        42.395042      -1.000000  "
      ]
     },
     "execution_count": 20,
     "metadata": {},
     "output_type": "execute_result"
    }
   ],
   "source": [
    "crime.describe()"
   ]
  },
  {
   "cell_type": "code",
   "execution_count": 21,
   "id": "d70939cd",
   "metadata": {},
   "outputs": [
    {
     "data": {
      "text/html": [
       "<div>\n",
       "<style scoped>\n",
       "    .dataframe tbody tr th:only-of-type {\n",
       "        vertical-align: middle;\n",
       "    }\n",
       "\n",
       "    .dataframe tbody tr th {\n",
       "        vertical-align: top;\n",
       "    }\n",
       "\n",
       "    .dataframe thead th {\n",
       "        text-align: right;\n",
       "    }\n",
       "</style>\n",
       "<table border=\"1\" class=\"dataframe\">\n",
       "  <thead>\n",
       "    <tr style=\"text-align: right;\">\n",
       "      <th></th>\n",
       "      <th>INCIDENT_NUMBER</th>\n",
       "      <th>OFFENSE_CODE_GROUP</th>\n",
       "      <th>OFFENSE_DESCRIPTION</th>\n",
       "      <th>DISTRICT</th>\n",
       "      <th>REPORTING_AREA</th>\n",
       "      <th>SHOOTING</th>\n",
       "      <th>DAY_OF_WEEK</th>\n",
       "      <th>UCR_PART</th>\n",
       "      <th>STREET</th>\n",
       "      <th>Location</th>\n",
       "    </tr>\n",
       "  </thead>\n",
       "  <tbody>\n",
       "    <tr>\n",
       "      <th>count</th>\n",
       "      <td>319050</td>\n",
       "      <td>319050</td>\n",
       "      <td>319050</td>\n",
       "      <td>317285</td>\n",
       "      <td>319050</td>\n",
       "      <td>1019</td>\n",
       "      <td>319050</td>\n",
       "      <td>318960</td>\n",
       "      <td>308179</td>\n",
       "      <td>319050</td>\n",
       "    </tr>\n",
       "    <tr>\n",
       "      <th>unique</th>\n",
       "      <td>282517</td>\n",
       "      <td>67</td>\n",
       "      <td>244</td>\n",
       "      <td>12</td>\n",
       "      <td>879</td>\n",
       "      <td>1</td>\n",
       "      <td>7</td>\n",
       "      <td>4</td>\n",
       "      <td>4657</td>\n",
       "      <td>18194</td>\n",
       "    </tr>\n",
       "    <tr>\n",
       "      <th>top</th>\n",
       "      <td>I162030584</td>\n",
       "      <td>Motor Vehicle Accident Response</td>\n",
       "      <td>SICK/INJURED/MEDICAL - PERSON</td>\n",
       "      <td>B2</td>\n",
       "      <td></td>\n",
       "      <td>Y</td>\n",
       "      <td>Friday</td>\n",
       "      <td>Part Three</td>\n",
       "      <td>WASHINGTON ST</td>\n",
       "      <td>(0.00000000, 0.00000000)</td>\n",
       "    </tr>\n",
       "    <tr>\n",
       "      <th>freq</th>\n",
       "      <td>13</td>\n",
       "      <td>37132</td>\n",
       "      <td>18783</td>\n",
       "      <td>49940</td>\n",
       "      <td>20250</td>\n",
       "      <td>1019</td>\n",
       "      <td>48489</td>\n",
       "      <td>158537</td>\n",
       "      <td>14192</td>\n",
       "      <td>19998</td>\n",
       "    </tr>\n",
       "  </tbody>\n",
       "</table>\n",
       "</div>"
      ],
      "text/plain": [
       "       INCIDENT_NUMBER               OFFENSE_CODE_GROUP  \\\n",
       "count           319050                           319050   \n",
       "unique          282517                               67   \n",
       "top         I162030584  Motor Vehicle Accident Response   \n",
       "freq                13                            37132   \n",
       "\n",
       "                  OFFENSE_DESCRIPTION DISTRICT REPORTING_AREA SHOOTING  \\\n",
       "count                          319050   317285         319050     1019   \n",
       "unique                            244       12            879        1   \n",
       "top     SICK/INJURED/MEDICAL - PERSON       B2                       Y   \n",
       "freq                            18783    49940          20250     1019   \n",
       "\n",
       "       DAY_OF_WEEK    UCR_PART         STREET                  Location  \n",
       "count       319050      318960         308179                    319050  \n",
       "unique           7           4           4657                     18194  \n",
       "top         Friday  Part Three  WASHINGTON ST  (0.00000000, 0.00000000)  \n",
       "freq         48489      158537          14192                     19998  "
      ]
     },
     "execution_count": 21,
     "metadata": {},
     "output_type": "execute_result"
    }
   ],
   "source": [
    "crime.describe(include='object')"
   ]
  },
  {
   "cell_type": "code",
   "execution_count": 22,
   "id": "074db872",
   "metadata": {},
   "outputs": [
    {
     "data": {
      "text/plain": [
       "Index(['INCIDENT_NUMBER', 'OFFENSE_CODE', 'OFFENSE_CODE_GROUP',\n",
       "       'OFFENSE_DESCRIPTION', 'DISTRICT', 'REPORTING_AREA', 'SHOOTING',\n",
       "       'OCCURRED_ON_DATE', 'YEAR', 'MONTH', 'DAY_OF_WEEK', 'HOUR', 'UCR_PART',\n",
       "       'STREET', 'Lat', 'Long', 'Location'],\n",
       "      dtype='object')"
      ]
     },
     "execution_count": 22,
     "metadata": {},
     "output_type": "execute_result"
    }
   ],
   "source": [
    "crime.columns"
   ]
  },
  {
   "cell_type": "code",
   "execution_count": 23,
   "id": "2e56d282",
   "metadata": {},
   "outputs": [
    {
     "data": {
      "text/plain": [
       "Index(['DISTRICT', 'SHOOTING', 'UCR_PART', 'STREET', 'Lat', 'Long'], dtype='object')"
      ]
     },
     "execution_count": 23,
     "metadata": {},
     "output_type": "execute_result"
    }
   ],
   "source": [
    "crime.columns[np.sum(crime.isnull()) !=0]"
   ]
  },
  {
   "cell_type": "code",
   "execution_count": 24,
   "id": "582d1fe6",
   "metadata": {},
   "outputs": [
    {
     "data": {
      "text/plain": [
       "Index(['INCIDENT_NUMBER', 'OFFENSE_CODE', 'OFFENSE_CODE_GROUP',\n",
       "       'OFFENSE_DESCRIPTION', 'REPORTING_AREA', 'OCCURRED_ON_DATE', 'YEAR',\n",
       "       'MONTH', 'DAY_OF_WEEK', 'HOUR', 'Location'],\n",
       "      dtype='object')"
      ]
     },
     "execution_count": 24,
     "metadata": {},
     "output_type": "execute_result"
    }
   ],
   "source": [
    "crime.columns[np.sum(crime.isnull()) ==0]"
   ]
  },
  {
   "cell_type": "code",
   "execution_count": 25,
   "id": "d34e89c6",
   "metadata": {},
   "outputs": [
    {
     "name": "stdout",
     "output_type": "stream",
     "text": [
      "INCIDENT_NUMBER has 282517 unique values\n",
      "OFFENSE_CODE has 222 unique values\n",
      "OFFENSE_CODE_GROUP has 67 unique values\n",
      "OFFENSE_DESCRIPTION has 244 unique values\n",
      "DISTRICT has 12 unique values\n",
      "REPORTING_AREA has 879 unique values\n",
      "SHOOTING has 1 unique values\n",
      "OCCURRED_ON_DATE has 233229 unique values\n",
      "YEAR has 4 unique values\n",
      "MONTH has 12 unique values\n",
      "DAY_OF_WEEK has 7 unique values\n",
      "HOUR has 24 unique values\n",
      "UCR_PART has 4 unique values\n",
      "STREET has 4657 unique values\n",
      "Lat has 18178 unique values\n",
      "Long has 18178 unique values\n",
      "Location has 18194 unique values\n"
     ]
    }
   ],
   "source": [
    "# Checking for the number of unique values in each column\n",
    "for col in crime.columns:\n",
    "    unique_count = crime[col].nunique()\n",
    "    print(col + \" has \" + str(unique_count) + \" unique values\")"
   ]
  },
  {
   "cell_type": "markdown",
   "id": "8f114067",
   "metadata": {},
   "source": [
    "### What are the most  and least common crimes in terms of offense group?"
   ]
  },
  {
   "cell_type": "code",
   "execution_count": 26,
   "id": "926a0ee9",
   "metadata": {},
   "outputs": [
    {
     "data": {
      "text/plain": [
       "Motor Vehicle Accident Response              37132\n",
       "Larceny                                      25935\n",
       "Medical Assistance                           23540\n",
       "Investigate Person                           18749\n",
       "Other                                        18073\n",
       "                                             ...  \n",
       "HUMAN TRAFFICKING                                7\n",
       "INVESTIGATE PERSON                               4\n",
       "Biological Threat                                2\n",
       "HUMAN TRAFFICKING - INVOLUNTARY SERVITUDE        2\n",
       "Burglary - No Property Taken                     2\n",
       "Name: OFFENSE_CODE_GROUP, Length: 67, dtype: int64"
      ]
     },
     "execution_count": 26,
     "metadata": {},
     "output_type": "execute_result"
    }
   ],
   "source": [
    "crime.OFFENSE_CODE_GROUP.value_counts()"
   ]
  },
  {
   "cell_type": "code",
   "execution_count": 27,
   "id": "1a47a857",
   "metadata": {},
   "outputs": [
    {
     "data": {
      "text/plain": [
       "Motor Vehicle Accident Response    0.116383\n",
       "Larceny                            0.081288\n",
       "Medical Assistance                 0.073782\n",
       "Investigate Person                 0.058765\n",
       "Other                              0.056646\n",
       "Drug Violation                     0.051857\n",
       "Simple Assault                     0.049604\n",
       "Vandalism                          0.048312\n",
       "Verbal Disputes                    0.041056\n",
       "Towed                              0.035377\n",
       "Name: OFFENSE_CODE_GROUP, dtype: float64"
      ]
     },
     "metadata": {},
     "output_type": "display_data"
    },
    {
     "data": {
      "text/plain": [
       "Text(0.5, 1.0, 'Top 10 offence % (from all crimes)')"
      ]
     },
     "execution_count": 27,
     "metadata": {},
     "output_type": "execute_result"
    },
    {
     "data": {
      "image/png": "[encoded data removed]",
      "text/plain": [
       "<Figure size 640x480 with 1 Axes>"
      ]
     },
     "metadata": {},
     "output_type": "display_data"
    }
   ],
   "source": [
    "offence_group_values=crime.OFFENSE_CODE_GROUP.value_counts()[:10]\n",
    "\n",
    "display(offence_group_values/crime.shape[0])\n",
    "(offence_group_values/crime.shape[0]).plot(kind='bar');\n",
    "plt.title('Top 10 offence % (from all crimes)')"
   ]
  },
  {
   "cell_type": "code",
   "execution_count": 28,
   "id": "c18f100e",
   "metadata": {},
   "outputs": [
    {
     "data": {
      "text/plain": [
       "Burglary - No Property Taken                  2\n",
       "HUMAN TRAFFICKING - INVOLUNTARY SERVITUDE     2\n",
       "Biological Threat                             2\n",
       "INVESTIGATE PERSON                            4\n",
       "HUMAN TRAFFICKING                             7\n",
       "Gambling                                      8\n",
       "Manslaughter                                  8\n",
       "Explosives                                   27\n",
       "Phone Call Complaints                        31\n",
       "Aircraft                                     36\n",
       "Name: OFFENSE_CODE_GROUP, dtype: int64"
      ]
     },
     "execution_count": 28,
     "metadata": {},
     "output_type": "execute_result"
    }
   ],
   "source": [
    "crime.OFFENSE_CODE_GROUP.value_counts().sort_values(ascending=True)[:10]"
   ]
  },
  {
   "cell_type": "markdown",
   "id": "b6fa814f",
   "metadata": {},
   "source": [
    "### What are the most common offense descriptions?"
   ]
  },
  {
   "cell_type": "code",
   "execution_count": 29,
   "id": "3ed4eb97",
   "metadata": {},
   "outputs": [
    {
     "data": {
      "text/plain": [
       "SICK/INJURED/MEDICAL - PERSON            18783\n",
       "INVESTIGATE PERSON                       18753\n",
       "M/V - LEAVING SCENE - PROPERTY DAMAGE    16323\n",
       "VANDALISM                                15153\n",
       "ASSAULT SIMPLE - BATTERY                 14791\n",
       "VERBAL DISPUTE                           13099\n",
       "TOWED MOTOR VEHICLE                      11287\n",
       "INVESTIGATE PROPERTY                     11124\n",
       "LARCENY THEFT FROM BUILDING               9069\n",
       "THREATS TO DO BODILY HARM                 9042\n",
       "Name: OFFENSE_DESCRIPTION, dtype: int64"
      ]
     },
     "execution_count": 29,
     "metadata": {},
     "output_type": "execute_result"
    }
   ],
   "source": [
    "crime.OFFENSE_DESCRIPTION.value_counts()[:10]"
   ]
  },
  {
   "cell_type": "code",
   "execution_count": 30,
   "id": "af0ab2ff",
   "metadata": {},
   "outputs": [
    {
     "data": {
      "text/plain": [
       "SICK/INJURED/MEDICAL - PERSON            0.058872\n",
       "INVESTIGATE PERSON                       0.058778\n",
       "M/V - LEAVING SCENE - PROPERTY DAMAGE    0.051161\n",
       "VANDALISM                                0.047494\n",
       "ASSAULT SIMPLE - BATTERY                 0.046360\n",
       "VERBAL DISPUTE                           0.041056\n",
       "TOWED MOTOR VEHICLE                      0.035377\n",
       "INVESTIGATE PROPERTY                     0.034866\n",
       "LARCENY THEFT FROM BUILDING              0.028425\n",
       "THREATS TO DO BODILY HARM                0.028340\n",
       "Name: OFFENSE_DESCRIPTION, dtype: float64"
      ]
     },
     "metadata": {},
     "output_type": "display_data"
    },
    {
     "data": {
      "text/plain": [
       "Text(0.5, 1.0, 'Top 10 Offence Description')"
      ]
     },
     "execution_count": 30,
     "metadata": {},
     "output_type": "execute_result"
    },
    {
     "data": {
      "image/png": "[encoded data removed]",
      "text/plain": [
       "<Figure size 640x480 with 1 Axes>"
      ]
     },
     "metadata": {},
     "output_type": "display_data"
    }
   ],
   "source": [
    "description=crime.OFFENSE_DESCRIPTION.value_counts()[:10]\n",
    "display(description/crime.shape[0])\n",
    "\n",
    "(description/crime.shape[0]).plot(kind='bar')\n",
    "plt.title('Top 10 Offence Description')"
   ]
  },
  {
   "cell_type": "markdown",
   "id": "f0355a52",
   "metadata": {},
   "source": [
    "### Most Crimes Occured"
   ]
  },
  {
   "cell_type": "code",
   "execution_count": 31,
   "id": "e90c0d43",
   "metadata": {},
   "outputs": [
    {
     "data": {
      "image/png": "[encoded data removed]",
      "text/plain": [
       "<Figure size 640x480 with 1 Axes>"
      ]
     },
     "metadata": {},
     "output_type": "display_data"
    }
   ],
   "source": [
    "# Year\n",
    "\n",
    "crime.groupby('YEAR').count()['INCIDENT_NUMBER'].plot(kind='bar');\n",
    "plt.title('No. Of Crimes');"
   ]
  },
  {
   "cell_type": "code",
   "execution_count": 32,
   "id": "639eee1b",
   "metadata": {},
   "outputs": [
    {
     "data": {
      "text/plain": [
       "MONTH\n",
       "2     21652\n",
       "12    23473\n",
       "1     23608\n",
       "11    23675\n",
       "4     24086\n",
       "3     24146\n",
       "10    25733\n",
       "5     26199\n",
       "9     26539\n",
       "6     30565\n",
       "7     34553\n",
       "8     34821\n",
       "Name: INCIDENT_NUMBER, dtype: int64"
      ]
     },
     "metadata": {},
     "output_type": "display_data"
    },
    {
     "data": {
      "image/png": "[encoded data removed]",
      "text/plain": [
       "<Figure size 640x480 with 1 Axes>"
      ]
     },
     "metadata": {},
     "output_type": "display_data"
    }
   ],
   "source": [
    "# Month\n",
    "\n",
    "display(crime.groupby('MONTH').count()['INCIDENT_NUMBER'].sort_values(ascending=True))\n",
    "crime.groupby('MONTH').count()['INCIDENT_NUMBER'].sort_values(ascending=True).plot(kind='bar');\n",
    "plt.title('No. of Crimes (Month)');"
   ]
  },
  {
   "cell_type": "code",
   "execution_count": 33,
   "id": "a73bbc47",
   "metadata": {},
   "outputs": [
    {
     "data": {
      "text/plain": [
       "DAY_OF_WEEK\n",
       "Friday       48489\n",
       "Wednesday    46727\n",
       "Thursday     46655\n",
       "Tuesday      46376\n",
       "Monday       45674\n",
       "Saturday     44816\n",
       "Sunday       40313\n",
       "Name: INCIDENT_NUMBER, dtype: int64"
      ]
     },
     "metadata": {},
     "output_type": "display_data"
    },
    {
     "data": {
      "image/png": "[encoded data removed]",
      "text/plain": [
       "<Figure size 640x480 with 1 Axes>"
      ]
     },
     "metadata": {},
     "output_type": "display_data"
    }
   ],
   "source": [
    "# Week\n",
    "\n",
    "display(crime.groupby('DAY_OF_WEEK').count()['INCIDENT_NUMBER'].sort_values(ascending=False));\n",
    "crime.groupby('DAY_OF_WEEK').count()['INCIDENT_NUMBER'].sort_values(ascending=False).plot(kind='bar');\n",
    "plt.title('No. of Crimes (Week)');"
   ]
  },
  {
   "cell_type": "code",
   "execution_count": 34,
   "id": "6f72b235",
   "metadata": {},
   "outputs": [
    {
     "data": {
      "text/plain": [
       "HOUR\n",
       "17    20762\n",
       "18    20301\n",
       "16    19870\n",
       "12    18676\n",
       "19    17587\n",
       "14    17189\n",
       "13    16845\n",
       "15    16519\n",
       "11    16445\n",
       "10    16345\n",
       "20    15849\n",
       "0     15106\n",
       "9     14740\n",
       "21    14109\n",
       "8     13042\n",
       "22    12925\n",
       "23    10596\n",
       "1      9267\n",
       "7      8850\n",
       "2      7693\n",
       "6      5026\n",
       "3      4589\n",
       "4      3408\n",
       "5      3311\n",
       "Name: INCIDENT_NUMBER, dtype: int64"
      ]
     },
     "metadata": {},
     "output_type": "display_data"
    },
    {
     "data": {
      "image/png": "[encoded data removed]",
      "text/plain": [
       "<Figure size 640x480 with 1 Axes>"
      ]
     },
     "metadata": {},
     "output_type": "display_data"
    }
   ],
   "source": [
    "# hour\n",
    "display(crime.groupby('HOUR').count()['INCIDENT_NUMBER'].sort_values(ascending=False))\n",
    "crime.groupby('HOUR').count()['INCIDENT_NUMBER'].sort_values(ascending=False).plot(kind='bar');\n",
    "plt.title('No of crimes (hour)');"
   ]
  },
  {
   "cell_type": "code",
   "execution_count": 37,
   "id": "b622312f",
   "metadata": {},
   "outputs": [
    {
     "data": {
      "text/html": [
       "<div>\n",
       "<style scoped>\n",
       "    .dataframe tbody tr th:only-of-type {\n",
       "        vertical-align: middle;\n",
       "    }\n",
       "\n",
       "    .dataframe tbody tr th {\n",
       "        vertical-align: top;\n",
       "    }\n",
       "\n",
       "    .dataframe thead th {\n",
       "        text-align: right;\n",
       "    }\n",
       "</style>\n",
       "<table border=\"1\" class=\"dataframe\">\n",
       "  <thead>\n",
       "    <tr style=\"text-align: right;\">\n",
       "      <th>DAY_OF_WEEK</th>\n",
       "      <th>Friday</th>\n",
       "      <th>Monday</th>\n",
       "      <th>Saturday</th>\n",
       "      <th>Sunday</th>\n",
       "      <th>Thursday</th>\n",
       "      <th>Tuesday</th>\n",
       "      <th>Wednesday</th>\n",
       "    </tr>\n",
       "    <tr>\n",
       "      <th>HOUR</th>\n",
       "      <th></th>\n",
       "      <th></th>\n",
       "      <th></th>\n",
       "      <th></th>\n",
       "      <th></th>\n",
       "      <th></th>\n",
       "      <th></th>\n",
       "    </tr>\n",
       "  </thead>\n",
       "  <tbody>\n",
       "    <tr>\n",
       "      <th>0</th>\n",
       "      <td>2161</td>\n",
       "      <td>2000</td>\n",
       "      <td>2612</td>\n",
       "      <td>2400</td>\n",
       "      <td>2039</td>\n",
       "      <td>1897</td>\n",
       "      <td>1997</td>\n",
       "    </tr>\n",
       "    <tr>\n",
       "      <th>1</th>\n",
       "      <td>1275</td>\n",
       "      <td>1058</td>\n",
       "      <td>1855</td>\n",
       "      <td>2043</td>\n",
       "      <td>1077</td>\n",
       "      <td>1017</td>\n",
       "      <td>942</td>\n",
       "    </tr>\n",
       "    <tr>\n",
       "      <th>2</th>\n",
       "      <td>952</td>\n",
       "      <td>846</td>\n",
       "      <td>1827</td>\n",
       "      <td>1855</td>\n",
       "      <td>774</td>\n",
       "      <td>641</td>\n",
       "      <td>798</td>\n",
       "    </tr>\n",
       "    <tr>\n",
       "      <th>3</th>\n",
       "      <td>532</td>\n",
       "      <td>583</td>\n",
       "      <td>957</td>\n",
       "      <td>1119</td>\n",
       "      <td>526</td>\n",
       "      <td>460</td>\n",
       "      <td>412</td>\n",
       "    </tr>\n",
       "    <tr>\n",
       "      <th>4</th>\n",
       "      <td>441</td>\n",
       "      <td>386</td>\n",
       "      <td>672</td>\n",
       "      <td>704</td>\n",
       "      <td>436</td>\n",
       "      <td>399</td>\n",
       "      <td>370</td>\n",
       "    </tr>\n",
       "    <tr>\n",
       "      <th>5</th>\n",
       "      <td>485</td>\n",
       "      <td>417</td>\n",
       "      <td>478</td>\n",
       "      <td>517</td>\n",
       "      <td>508</td>\n",
       "      <td>462</td>\n",
       "      <td>444</td>\n",
       "    </tr>\n",
       "    <tr>\n",
       "      <th>6</th>\n",
       "      <td>768</td>\n",
       "      <td>709</td>\n",
       "      <td>530</td>\n",
       "      <td>543</td>\n",
       "      <td>866</td>\n",
       "      <td>787</td>\n",
       "      <td>823</td>\n",
       "    </tr>\n",
       "    <tr>\n",
       "      <th>7</th>\n",
       "      <td>1398</td>\n",
       "      <td>1352</td>\n",
       "      <td>1078</td>\n",
       "      <td>758</td>\n",
       "      <td>1405</td>\n",
       "      <td>1418</td>\n",
       "      <td>1441</td>\n",
       "    </tr>\n",
       "    <tr>\n",
       "      <th>8</th>\n",
       "      <td>2041</td>\n",
       "      <td>2046</td>\n",
       "      <td>1515</td>\n",
       "      <td>1123</td>\n",
       "      <td>2037</td>\n",
       "      <td>2145</td>\n",
       "      <td>2135</td>\n",
       "    </tr>\n",
       "    <tr>\n",
       "      <th>9</th>\n",
       "      <td>2299</td>\n",
       "      <td>2148</td>\n",
       "      <td>1812</td>\n",
       "      <td>1457</td>\n",
       "      <td>2325</td>\n",
       "      <td>2322</td>\n",
       "      <td>2377</td>\n",
       "    </tr>\n",
       "    <tr>\n",
       "      <th>10</th>\n",
       "      <td>2668</td>\n",
       "      <td>2432</td>\n",
       "      <td>2064</td>\n",
       "      <td>1778</td>\n",
       "      <td>2496</td>\n",
       "      <td>2414</td>\n",
       "      <td>2493</td>\n",
       "    </tr>\n",
       "    <tr>\n",
       "      <th>11</th>\n",
       "      <td>2552</td>\n",
       "      <td>2373</td>\n",
       "      <td>2042</td>\n",
       "      <td>1802</td>\n",
       "      <td>2548</td>\n",
       "      <td>2529</td>\n",
       "      <td>2599</td>\n",
       "    </tr>\n",
       "    <tr>\n",
       "      <th>12</th>\n",
       "      <td>2860</td>\n",
       "      <td>2746</td>\n",
       "      <td>2588</td>\n",
       "      <td>2135</td>\n",
       "      <td>2821</td>\n",
       "      <td>2681</td>\n",
       "      <td>2845</td>\n",
       "    </tr>\n",
       "    <tr>\n",
       "      <th>13</th>\n",
       "      <td>2499</td>\n",
       "      <td>2479</td>\n",
       "      <td>2223</td>\n",
       "      <td>1980</td>\n",
       "      <td>2576</td>\n",
       "      <td>2493</td>\n",
       "      <td>2595</td>\n",
       "    </tr>\n",
       "    <tr>\n",
       "      <th>14</th>\n",
       "      <td>2601</td>\n",
       "      <td>2485</td>\n",
       "      <td>2378</td>\n",
       "      <td>2029</td>\n",
       "      <td>2536</td>\n",
       "      <td>2555</td>\n",
       "      <td>2605</td>\n",
       "    </tr>\n",
       "    <tr>\n",
       "      <th>15</th>\n",
       "      <td>2566</td>\n",
       "      <td>2438</td>\n",
       "      <td>2084</td>\n",
       "      <td>1918</td>\n",
       "      <td>2531</td>\n",
       "      <td>2503</td>\n",
       "      <td>2479</td>\n",
       "    </tr>\n",
       "    <tr>\n",
       "      <th>16</th>\n",
       "      <td>3073</td>\n",
       "      <td>3029</td>\n",
       "      <td>2445</td>\n",
       "      <td>2216</td>\n",
       "      <td>2974</td>\n",
       "      <td>3080</td>\n",
       "      <td>3053</td>\n",
       "    </tr>\n",
       "    <tr>\n",
       "      <th>17</th>\n",
       "      <td>3252</td>\n",
       "      <td>3253</td>\n",
       "      <td>2555</td>\n",
       "      <td>2377</td>\n",
       "      <td>2931</td>\n",
       "      <td>3241</td>\n",
       "      <td>3153</td>\n",
       "    </tr>\n",
       "    <tr>\n",
       "      <th>18</th>\n",
       "      <td>3010</td>\n",
       "      <td>3089</td>\n",
       "      <td>2528</td>\n",
       "      <td>2326</td>\n",
       "      <td>3033</td>\n",
       "      <td>3217</td>\n",
       "      <td>3098</td>\n",
       "    </tr>\n",
       "    <tr>\n",
       "      <th>19</th>\n",
       "      <td>2564</td>\n",
       "      <td>2606</td>\n",
       "      <td>2301</td>\n",
       "      <td>2114</td>\n",
       "      <td>2510</td>\n",
       "      <td>2768</td>\n",
       "      <td>2724</td>\n",
       "    </tr>\n",
       "    <tr>\n",
       "      <th>20</th>\n",
       "      <td>2307</td>\n",
       "      <td>2319</td>\n",
       "      <td>2131</td>\n",
       "      <td>2109</td>\n",
       "      <td>2349</td>\n",
       "      <td>2369</td>\n",
       "      <td>2265</td>\n",
       "    </tr>\n",
       "    <tr>\n",
       "      <th>21</th>\n",
       "      <td>2089</td>\n",
       "      <td>2003</td>\n",
       "      <td>2077</td>\n",
       "      <td>1902</td>\n",
       "      <td>2070</td>\n",
       "      <td>1925</td>\n",
       "      <td>2043</td>\n",
       "    </tr>\n",
       "    <tr>\n",
       "      <th>22</th>\n",
       "      <td>2160</td>\n",
       "      <td>1634</td>\n",
       "      <td>2113</td>\n",
       "      <td>1728</td>\n",
       "      <td>1795</td>\n",
       "      <td>1757</td>\n",
       "      <td>1738</td>\n",
       "    </tr>\n",
       "    <tr>\n",
       "      <th>23</th>\n",
       "      <td>1936</td>\n",
       "      <td>1243</td>\n",
       "      <td>1951</td>\n",
       "      <td>1380</td>\n",
       "      <td>1492</td>\n",
       "      <td>1296</td>\n",
       "      <td>1298</td>\n",
       "    </tr>\n",
       "  </tbody>\n",
       "</table>\n",
       "</div>"
      ],
      "text/plain": [
       "DAY_OF_WEEK  Friday  Monday  Saturday  Sunday  Thursday  Tuesday  Wednesday\n",
       "HOUR                                                                       \n",
       "0              2161    2000      2612    2400      2039     1897       1997\n",
       "1              1275    1058      1855    2043      1077     1017        942\n",
       "2               952     846      1827    1855       774      641        798\n",
       "3               532     583       957    1119       526      460        412\n",
       "4               441     386       672     704       436      399        370\n",
       "5               485     417       478     517       508      462        444\n",
       "6               768     709       530     543       866      787        823\n",
       "7              1398    1352      1078     758      1405     1418       1441\n",
       "8              2041    2046      1515    1123      2037     2145       2135\n",
       "9              2299    2148      1812    1457      2325     2322       2377\n",
       "10             2668    2432      2064    1778      2496     2414       2493\n",
       "11             2552    2373      2042    1802      2548     2529       2599\n",
       "12             2860    2746      2588    2135      2821     2681       2845\n",
       "13             2499    2479      2223    1980      2576     2493       2595\n",
       "14             2601    2485      2378    2029      2536     2555       2605\n",
       "15             2566    2438      2084    1918      2531     2503       2479\n",
       "16             3073    3029      2445    2216      2974     3080       3053\n",
       "17             3252    3253      2555    2377      2931     3241       3153\n",
       "18             3010    3089      2528    2326      3033     3217       3098\n",
       "19             2564    2606      2301    2114      2510     2768       2724\n",
       "20             2307    2319      2131    2109      2349     2369       2265\n",
       "21             2089    2003      2077    1902      2070     1925       2043\n",
       "22             2160    1634      2113    1728      1795     1757       1738\n",
       "23             1936    1243      1951    1380      1492     1296       1298"
      ]
     },
     "execution_count": 37,
     "metadata": {},
     "output_type": "execute_result"
    }
   ],
   "source": [
    "crime.groupby(['HOUR','DAY_OF_WEEK']).count()['INCIDENT_NUMBER'].unstack()"
   ]
  },
  {
   "cell_type": "code",
   "execution_count": 38,
   "id": "ccd43edd",
   "metadata": {},
   "outputs": [],
   "source": [
    "week_and_hour=crime.groupby(['HOUR','DAY_OF_WEEK']).count()['INCIDENT_NUMBER'].unstack()\n",
    "week_and_hour.columns=['Monday','Tuesday','Wednesday','Thursday','Friday','Saturday','Sunday']"
   ]
  },
  {
   "cell_type": "code",
   "execution_count": 51,
   "id": "07e03d22",
   "metadata": {},
   "outputs": [
    {
     "data": {
      "image/png": "[encoded data removed]",
      "text/plain": [
       "<Figure size 640x480 with 2 Axes>"
      ]
     },
     "metadata": {},
     "output_type": "display_data"
    }
   ],
   "source": [
    "sns.heatmap(week_and_hour,cmap='YlOrRd');"
   ]
  },
  {
   "cell_type": "code",
   "execution_count": 50,
   "id": "62e8e543",
   "metadata": {},
   "outputs": [
    {
     "data": {
      "image/png": "[encoded data removed]",
      "text/plain": [
       "<Figure size 640x480 with 2 Axes>"
      ]
     },
     "metadata": {},
     "output_type": "display_data"
    }
   ],
   "source": [
    "sns.heatmap(week_and_hour, cmap=sns.cubehelix_palette(as_cmap=True));"
   ]
  },
  {
   "cell_type": "markdown",
   "id": "4aaf98bf",
   "metadata": {},
   "source": [
    "### Average Crimes"
   ]
  },
  {
   "cell_type": "code",
   "execution_count": 64,
   "id": "db31e7a3",
   "metadata": {},
   "outputs": [
    {
     "name": "stdout",
     "output_type": "stream",
     "text": [
      "The average number of crime is 7976.25\n"
     ]
    },
    {
     "data": {
      "text/html": [
       "<style type=\"text/css\">\n",
       "#T_326dc_row0_col1, #T_326dc_row0_col3, #T_326dc_row1_col1, #T_326dc_row1_col2, #T_326dc_row1_col3, #T_326dc_row2_col3, #T_326dc_row3_col3, #T_326dc_row5_col0, #T_326dc_row8_col3, #T_326dc_row10_col0, #T_326dc_row10_col1, #T_326dc_row10_col2, #T_326dc_row11_col1, #T_326dc_row11_col2 {\n",
       "  color: blue;\n",
       "}\n",
       "</style>\n",
       "<table id=\"T_326dc\">\n",
       "  <thead>\n",
       "    <tr>\n",
       "      <th class=\"index_name level0\" >YEAR</th>\n",
       "      <th id=\"T_326dc_level0_col0\" class=\"col_heading level0 col0\" >2015</th>\n",
       "      <th id=\"T_326dc_level0_col1\" class=\"col_heading level0 col1\" >2016</th>\n",
       "      <th id=\"T_326dc_level0_col2\" class=\"col_heading level0 col2\" >2017</th>\n",
       "      <th id=\"T_326dc_level0_col3\" class=\"col_heading level0 col3\" >2018</th>\n",
       "    </tr>\n",
       "    <tr>\n",
       "      <th class=\"index_name level0\" >MONTH</th>\n",
       "      <th class=\"blank col0\" >&nbsp;</th>\n",
       "      <th class=\"blank col1\" >&nbsp;</th>\n",
       "      <th class=\"blank col2\" >&nbsp;</th>\n",
       "      <th class=\"blank col3\" >&nbsp;</th>\n",
       "    </tr>\n",
       "  </thead>\n",
       "  <tbody>\n",
       "    <tr>\n",
       "      <th id=\"T_326dc_level0_row0\" class=\"row_heading level0 row0\" >1</th>\n",
       "      <td id=\"T_326dc_row0_col0\" class=\"data row0 col0\" >nan</td>\n",
       "      <td id=\"T_326dc_row0_col1\" class=\"data row0 col1\" >7835.000000</td>\n",
       "      <td id=\"T_326dc_row0_col2\" class=\"data row0 col2\" >7991.000000</td>\n",
       "      <td id=\"T_326dc_row0_col3\" class=\"data row0 col3\" >7782.000000</td>\n",
       "    </tr>\n",
       "    <tr>\n",
       "      <th id=\"T_326dc_level0_row1\" class=\"row_heading level0 row1\" >2</th>\n",
       "      <td id=\"T_326dc_row1_col0\" class=\"data row1 col0\" >nan</td>\n",
       "      <td id=\"T_326dc_row1_col1\" class=\"data row1 col1\" >7307.000000</td>\n",
       "      <td id=\"T_326dc_row1_col2\" class=\"data row1 col2\" >7408.000000</td>\n",
       "      <td id=\"T_326dc_row1_col3\" class=\"data row1 col3\" >6937.000000</td>\n",
       "    </tr>\n",
       "    <tr>\n",
       "      <th id=\"T_326dc_level0_row2\" class=\"row_heading level0 row2\" >3</th>\n",
       "      <td id=\"T_326dc_row2_col0\" class=\"data row2 col0\" >nan</td>\n",
       "      <td id=\"T_326dc_row2_col1\" class=\"data row2 col1\" >8199.000000</td>\n",
       "      <td id=\"T_326dc_row2_col2\" class=\"data row2 col2\" >8179.000000</td>\n",
       "      <td id=\"T_326dc_row2_col3\" class=\"data row2 col3\" >7768.000000</td>\n",
       "    </tr>\n",
       "    <tr>\n",
       "      <th id=\"T_326dc_level0_row3\" class=\"row_heading level0 row3\" >4</th>\n",
       "      <td id=\"T_326dc_row3_col0\" class=\"data row3 col0\" >nan</td>\n",
       "      <td id=\"T_326dc_row3_col1\" class=\"data row3 col1\" >8101.000000</td>\n",
       "      <td id=\"T_326dc_row3_col2\" class=\"data row3 col2\" >8069.000000</td>\n",
       "      <td id=\"T_326dc_row3_col3\" class=\"data row3 col3\" >7916.000000</td>\n",
       "    </tr>\n",
       "    <tr>\n",
       "      <th id=\"T_326dc_level0_row4\" class=\"row_heading level0 row4\" >5</th>\n",
       "      <td id=\"T_326dc_row4_col0\" class=\"data row4 col0\" >nan</td>\n",
       "      <td id=\"T_326dc_row4_col1\" class=\"data row4 col1\" >8578.000000</td>\n",
       "      <td id=\"T_326dc_row4_col2\" class=\"data row4 col2\" >8715.000000</td>\n",
       "      <td id=\"T_326dc_row4_col3\" class=\"data row4 col3\" >8906.000000</td>\n",
       "    </tr>\n",
       "    <tr>\n",
       "      <th id=\"T_326dc_level0_row5\" class=\"row_heading level0 row5\" >6</th>\n",
       "      <td id=\"T_326dc_row5_col0\" class=\"data row5 col0\" >4188.000000</td>\n",
       "      <td id=\"T_326dc_row5_col1\" class=\"data row5 col1\" >8558.000000</td>\n",
       "      <td id=\"T_326dc_row5_col2\" class=\"data row5 col2\" >8985.000000</td>\n",
       "      <td id=\"T_326dc_row5_col3\" class=\"data row5 col3\" >8834.000000</td>\n",
       "    </tr>\n",
       "    <tr>\n",
       "      <th id=\"T_326dc_level0_row6\" class=\"row_heading level0 row6\" >7</th>\n",
       "      <td id=\"T_326dc_row6_col0\" class=\"data row6 col0\" >8322.000000</td>\n",
       "      <td id=\"T_326dc_row6_col1\" class=\"data row6 col1\" >8618.000000</td>\n",
       "      <td id=\"T_326dc_row6_col2\" class=\"data row6 col2\" >9075.000000</td>\n",
       "      <td id=\"T_326dc_row6_col3\" class=\"data row6 col3\" >8538.000000</td>\n",
       "    </tr>\n",
       "    <tr>\n",
       "      <th id=\"T_326dc_level0_row7\" class=\"row_heading level0 row7\" >8</th>\n",
       "      <td id=\"T_326dc_row7_col0\" class=\"data row7 col0\" >8340.000000</td>\n",
       "      <td id=\"T_326dc_row7_col1\" class=\"data row7 col1\" >8938.000000</td>\n",
       "      <td id=\"T_326dc_row7_col2\" class=\"data row7 col2\" >9206.000000</td>\n",
       "      <td id=\"T_326dc_row7_col3\" class=\"data row7 col3\" >8337.000000</td>\n",
       "    </tr>\n",
       "    <tr>\n",
       "      <th id=\"T_326dc_level0_row8\" class=\"row_heading level0 row8\" >9</th>\n",
       "      <td id=\"T_326dc_row8_col0\" class=\"data row8 col0\" >8411.000000</td>\n",
       "      <td id=\"T_326dc_row8_col1\" class=\"data row8 col1\" >8521.000000</td>\n",
       "      <td id=\"T_326dc_row8_col2\" class=\"data row8 col2\" >8940.000000</td>\n",
       "      <td id=\"T_326dc_row8_col3\" class=\"data row8 col3\" >667.000000</td>\n",
       "    </tr>\n",
       "    <tr>\n",
       "      <th id=\"T_326dc_level0_row9\" class=\"row_heading level0 row9\" >10</th>\n",
       "      <td id=\"T_326dc_row9_col0\" class=\"data row9 col0\" >8305.000000</td>\n",
       "      <td id=\"T_326dc_row9_col1\" class=\"data row9 col1\" >8582.000000</td>\n",
       "      <td id=\"T_326dc_row9_col2\" class=\"data row9 col2\" >8846.000000</td>\n",
       "      <td id=\"T_326dc_row9_col3\" class=\"data row9 col3\" >nan</td>\n",
       "    </tr>\n",
       "    <tr>\n",
       "      <th id=\"T_326dc_level0_row10\" class=\"row_heading level0 row10\" >11</th>\n",
       "      <td id=\"T_326dc_row10_col0\" class=\"data row10 col0\" >7818.000000</td>\n",
       "      <td id=\"T_326dc_row10_col1\" class=\"data row10 col1\" >7922.000000</td>\n",
       "      <td id=\"T_326dc_row10_col2\" class=\"data row10 col2\" >7935.000000</td>\n",
       "      <td id=\"T_326dc_row10_col3\" class=\"data row10 col3\" >nan</td>\n",
       "    </tr>\n",
       "    <tr>\n",
       "      <th id=\"T_326dc_level0_row11\" class=\"row_heading level0 row11\" >12</th>\n",
       "      <td id=\"T_326dc_row11_col0\" class=\"data row11 col0\" >7987.000000</td>\n",
       "      <td id=\"T_326dc_row11_col1\" class=\"data row11 col1\" >7951.000000</td>\n",
       "      <td id=\"T_326dc_row11_col2\" class=\"data row11 col2\" >7535.000000</td>\n",
       "      <td id=\"T_326dc_row11_col3\" class=\"data row11 col3\" >nan</td>\n",
       "    </tr>\n",
       "  </tbody>\n",
       "</table>\n"
      ],
      "text/plain": [
       "<pandas.io.formats.style.Styler at 0x1dea089fe90>"
      ]
     },
     "execution_count": 64,
     "metadata": {},
     "output_type": "execute_result"
    }
   ],
   "source": [
    "# In which months were number of crimes below average?\n",
    "\n",
    "avg_crime=crime.groupby(['YEAR','MONTH']).count()['INCIDENT_NUMBER'].mean()\n",
    "print('The average number of crime is '+str(avg_crime))\n",
    "\n",
    "year_and_month=crime.groupby(['MONTH','YEAR']).count()['INCIDENT_NUMBER'].unstack()\n",
    "\n",
    "def style_negative(v,props=''):\n",
    "    return props if v < avg_crime else None\n",
    "\n",
    "s2= year_and_month.style.applymap(style_negative,props='color:blue;')\\\n",
    "        .applymap(lambda v:'opacity:20%;'if(v<0.3) and (v>-0.3)else None)\n",
    "s2\n"
   ]
  },
  {
   "cell_type": "code",
   "execution_count": 67,
   "id": "7d4f6aa9",
   "metadata": {},
   "outputs": [
    {
     "data": {
      "text/html": [
       "<style type=\"text/css\">\n",
       "#T_326dc_row0_col1, #T_326dc_row0_col3, #T_326dc_row1_col1, #T_326dc_row1_col2, #T_326dc_row1_col3, #T_326dc_row2_col3, #T_326dc_row3_col3, #T_326dc_row5_col0, #T_326dc_row8_col3, #T_326dc_row10_col0, #T_326dc_row10_col1, #T_326dc_row10_col2, #T_326dc_row11_col1, #T_326dc_row11_col2 {\n",
       "  color: blue;\n",
       "}\n",
       "#T_326dc_row4_col3, #T_326dc_row7_col1, #T_326dc_row7_col2, #T_326dc_row8_col0 {\n",
       "  color: white;\n",
       "  background-color: darkgreen;\n",
       "  color: white;\n",
       "  background-color: darkgreen;\n",
       "}\n",
       "</style>\n",
       "<table id=\"T_326dc\">\n",
       "  <thead>\n",
       "    <tr>\n",
       "      <th class=\"index_name level0\" >YEAR</th>\n",
       "      <th id=\"T_326dc_level0_col0\" class=\"col_heading level0 col0\" >2015</th>\n",
       "      <th id=\"T_326dc_level0_col1\" class=\"col_heading level0 col1\" >2016</th>\n",
       "      <th id=\"T_326dc_level0_col2\" class=\"col_heading level0 col2\" >2017</th>\n",
       "      <th id=\"T_326dc_level0_col3\" class=\"col_heading level0 col3\" >2018</th>\n",
       "    </tr>\n",
       "    <tr>\n",
       "      <th class=\"index_name level0\" >MONTH</th>\n",
       "      <th class=\"blank col0\" >&nbsp;</th>\n",
       "      <th class=\"blank col1\" >&nbsp;</th>\n",
       "      <th class=\"blank col2\" >&nbsp;</th>\n",
       "      <th class=\"blank col3\" >&nbsp;</th>\n",
       "    </tr>\n",
       "  </thead>\n",
       "  <tbody>\n",
       "    <tr>\n",
       "      <th id=\"T_326dc_level0_row0\" class=\"row_heading level0 row0\" >1</th>\n",
       "      <td id=\"T_326dc_row0_col0\" class=\"data row0 col0\" >nan</td>\n",
       "      <td id=\"T_326dc_row0_col1\" class=\"data row0 col1\" >7835.000000</td>\n",
       "      <td id=\"T_326dc_row0_col2\" class=\"data row0 col2\" >7991.000000</td>\n",
       "      <td id=\"T_326dc_row0_col3\" class=\"data row0 col3\" >7782.000000</td>\n",
       "    </tr>\n",
       "    <tr>\n",
       "      <th id=\"T_326dc_level0_row1\" class=\"row_heading level0 row1\" >2</th>\n",
       "      <td id=\"T_326dc_row1_col0\" class=\"data row1 col0\" >nan</td>\n",
       "      <td id=\"T_326dc_row1_col1\" class=\"data row1 col1\" >7307.000000</td>\n",
       "      <td id=\"T_326dc_row1_col2\" class=\"data row1 col2\" >7408.000000</td>\n",
       "      <td id=\"T_326dc_row1_col3\" class=\"data row1 col3\" >6937.000000</td>\n",
       "    </tr>\n",
       "    <tr>\n",
       "      <th id=\"T_326dc_level0_row2\" class=\"row_heading level0 row2\" >3</th>\n",
       "      <td id=\"T_326dc_row2_col0\" class=\"data row2 col0\" >nan</td>\n",
       "      <td id=\"T_326dc_row2_col1\" class=\"data row2 col1\" >8199.000000</td>\n",
       "      <td id=\"T_326dc_row2_col2\" class=\"data row2 col2\" >8179.000000</td>\n",
       "      <td id=\"T_326dc_row2_col3\" class=\"data row2 col3\" >7768.000000</td>\n",
       "    </tr>\n",
       "    <tr>\n",
       "      <th id=\"T_326dc_level0_row3\" class=\"row_heading level0 row3\" >4</th>\n",
       "      <td id=\"T_326dc_row3_col0\" class=\"data row3 col0\" >nan</td>\n",
       "      <td id=\"T_326dc_row3_col1\" class=\"data row3 col1\" >8101.000000</td>\n",
       "      <td id=\"T_326dc_row3_col2\" class=\"data row3 col2\" >8069.000000</td>\n",
       "      <td id=\"T_326dc_row3_col3\" class=\"data row3 col3\" >7916.000000</td>\n",
       "    </tr>\n",
       "    <tr>\n",
       "      <th id=\"T_326dc_level0_row4\" class=\"row_heading level0 row4\" >5</th>\n",
       "      <td id=\"T_326dc_row4_col0\" class=\"data row4 col0\" >nan</td>\n",
       "      <td id=\"T_326dc_row4_col1\" class=\"data row4 col1\" >8578.000000</td>\n",
       "      <td id=\"T_326dc_row4_col2\" class=\"data row4 col2\" >8715.000000</td>\n",
       "      <td id=\"T_326dc_row4_col3\" class=\"data row4 col3\" >8906.000000</td>\n",
       "    </tr>\n",
       "    <tr>\n",
       "      <th id=\"T_326dc_level0_row5\" class=\"row_heading level0 row5\" >6</th>\n",
       "      <td id=\"T_326dc_row5_col0\" class=\"data row5 col0\" >4188.000000</td>\n",
       "      <td id=\"T_326dc_row5_col1\" class=\"data row5 col1\" >8558.000000</td>\n",
       "      <td id=\"T_326dc_row5_col2\" class=\"data row5 col2\" >8985.000000</td>\n",
       "      <td id=\"T_326dc_row5_col3\" class=\"data row5 col3\" >8834.000000</td>\n",
       "    </tr>\n",
       "    <tr>\n",
       "      <th id=\"T_326dc_level0_row6\" class=\"row_heading level0 row6\" >7</th>\n",
       "      <td id=\"T_326dc_row6_col0\" class=\"data row6 col0\" >8322.000000</td>\n",
       "      <td id=\"T_326dc_row6_col1\" class=\"data row6 col1\" >8618.000000</td>\n",
       "      <td id=\"T_326dc_row6_col2\" class=\"data row6 col2\" >9075.000000</td>\n",
       "      <td id=\"T_326dc_row6_col3\" class=\"data row6 col3\" >8538.000000</td>\n",
       "    </tr>\n",
       "    <tr>\n",
       "      <th id=\"T_326dc_level0_row7\" class=\"row_heading level0 row7\" >8</th>\n",
       "      <td id=\"T_326dc_row7_col0\" class=\"data row7 col0\" >8340.000000</td>\n",
       "      <td id=\"T_326dc_row7_col1\" class=\"data row7 col1\" >8938.000000</td>\n",
       "      <td id=\"T_326dc_row7_col2\" class=\"data row7 col2\" >9206.000000</td>\n",
       "      <td id=\"T_326dc_row7_col3\" class=\"data row7 col3\" >8337.000000</td>\n",
       "    </tr>\n",
       "    <tr>\n",
       "      <th id=\"T_326dc_level0_row8\" class=\"row_heading level0 row8\" >9</th>\n",
       "      <td id=\"T_326dc_row8_col0\" class=\"data row8 col0\" >8411.000000</td>\n",
       "      <td id=\"T_326dc_row8_col1\" class=\"data row8 col1\" >8521.000000</td>\n",
       "      <td id=\"T_326dc_row8_col2\" class=\"data row8 col2\" >8940.000000</td>\n",
       "      <td id=\"T_326dc_row8_col3\" class=\"data row8 col3\" >667.000000</td>\n",
       "    </tr>\n",
       "    <tr>\n",
       "      <th id=\"T_326dc_level0_row9\" class=\"row_heading level0 row9\" >10</th>\n",
       "      <td id=\"T_326dc_row9_col0\" class=\"data row9 col0\" >8305.000000</td>\n",
       "      <td id=\"T_326dc_row9_col1\" class=\"data row9 col1\" >8582.000000</td>\n",
       "      <td id=\"T_326dc_row9_col2\" class=\"data row9 col2\" >8846.000000</td>\n",
       "      <td id=\"T_326dc_row9_col3\" class=\"data row9 col3\" >nan</td>\n",
       "    </tr>\n",
       "    <tr>\n",
       "      <th id=\"T_326dc_level0_row10\" class=\"row_heading level0 row10\" >11</th>\n",
       "      <td id=\"T_326dc_row10_col0\" class=\"data row10 col0\" >7818.000000</td>\n",
       "      <td id=\"T_326dc_row10_col1\" class=\"data row10 col1\" >7922.000000</td>\n",
       "      <td id=\"T_326dc_row10_col2\" class=\"data row10 col2\" >7935.000000</td>\n",
       "      <td id=\"T_326dc_row10_col3\" class=\"data row10 col3\" >nan</td>\n",
       "    </tr>\n",
       "    <tr>\n",
       "      <th id=\"T_326dc_level0_row11\" class=\"row_heading level0 row11\" >12</th>\n",
       "      <td id=\"T_326dc_row11_col0\" class=\"data row11 col0\" >7987.000000</td>\n",
       "      <td id=\"T_326dc_row11_col1\" class=\"data row11 col1\" >7951.000000</td>\n",
       "      <td id=\"T_326dc_row11_col2\" class=\"data row11 col2\" >7535.000000</td>\n",
       "      <td id=\"T_326dc_row11_col3\" class=\"data row11 col3\" >nan</td>\n",
       "    </tr>\n",
       "  </tbody>\n",
       "</table>\n"
      ],
      "text/plain": [
       "<pandas.io.formats.style.Styler at 0x1dea089fe90>"
      ]
     },
     "execution_count": 67,
     "metadata": {},
     "output_type": "execute_result"
    }
   ],
   "source": [
    "def highlight_max(s,props=''):\n",
    "    return np.where (s == np.nanmax(s.values),props,'')\n",
    "s2.apply(highlight_max,props='color:white;background-color:darkgreen',axis=0)"
   ]
  },
  {
   "cell_type": "code",
   "execution_count": 73,
   "id": "e10c9ff5",
   "metadata": {},
   "outputs": [
    {
     "data": {
      "image/png": "[encoded data removed]",
      "text/plain": [
       "<Figure size 640x480 with 2 Axes>"
      ]
     },
     "metadata": {},
     "output_type": "display_data"
    }
   ],
   "source": [
    "# In which districts were the most crimes commmitted on yearly basis?\n",
    "\n",
    "district_and_year=crime.groupby(['DISTRICT','YEAR']).count()['INCIDENT_NUMBER'].unstack()\n",
    "sns.heatmap(district_and_year,cmap='Blues');"
   ]
  },
  {
   "cell_type": "code",
   "execution_count": null,
   "id": "666045fc",
   "metadata": {},
   "outputs": [],
   "source": []
  }
 ],
 "metadata": {
  "kernelspec": {
   "display_name": "Python 3 (ipykernel)",
   "language": "python",
   "name": "python3"
  },
  "language_info": {
   "codemirror_mode": {
    "name": "ipython",
    "version": 3
   },
   "file_extension": ".py",
   "mimetype": "text/x-python",
   "name": "python",
   "nbconvert_exporter": "python",
   "pygments_lexer": "ipython3",
   "version": "3.11.4"
  }
 },
 "nbformat": 4,
 "nbformat_minor": 5
}
